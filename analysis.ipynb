{
 "cells": [
  {
   "cell_type": "markdown",
   "id": "b8696135",
   "metadata": {},
   "source": [
    "# Iris Data Analysis"
   ]
  },
  {
   "cell_type": "markdown",
   "id": "6203c7b8",
   "metadata": {},
   "source": [
    "## Table of Contents\n",
    "\n",
    "- [Background](#Background)\n",
    "- [Summary](#Summary)\n",
    "- [Importing the data](#Importing-the-data)\n",
    "- [Histogram](#Histogram)\n",
    "- [Scatterplot](#Scatterplot)\n",
    "- [Additional analysis](#Additional-analysis)"
   ]
  },
  {
   "cell_type": "markdown",
   "id": "1507ee69",
   "metadata": {},
   "source": [
    "## Background "
   ]
  },
  {
   "cell_type": "code",
   "execution_count": null,
   "id": "d334634e",
   "metadata": {},
   "outputs": [],
   "source": []
  },
  {
   "cell_type": "markdown",
   "id": "4e28769d",
   "metadata": {},
   "source": [
    "## Summary "
   ]
  },
  {
   "cell_type": "code",
   "execution_count": null,
   "id": "981cf201",
   "metadata": {},
   "outputs": [],
   "source": []
  },
  {
   "cell_type": "markdown",
   "id": "6e7bd83e",
   "metadata": {},
   "source": [
    "## Importing the data"
   ]
  },
  {
   "cell_type": "code",
   "execution_count": null,
   "id": "1c712336",
   "metadata": {},
   "outputs": [],
   "source": []
  },
  {
   "cell_type": "markdown",
   "id": "7c7e796d",
   "metadata": {},
   "source": [
    "## Histogram "
   ]
  },
  {
   "cell_type": "code",
   "execution_count": null,
   "id": "bc89e609",
   "metadata": {},
   "outputs": [],
   "source": []
  },
  {
   "cell_type": "markdown",
   "id": "401191d3",
   "metadata": {},
   "source": [
    "## Scatterplot"
   ]
  },
  {
   "cell_type": "code",
   "execution_count": null,
   "id": "7140fd7f",
   "metadata": {},
   "outputs": [],
   "source": []
  },
  {
   "cell_type": "markdown",
   "id": "ea783959",
   "metadata": {},
   "source": [
    "## Additional analysis "
   ]
  },
  {
   "cell_type": "code",
   "execution_count": null,
   "id": "85598454",
   "metadata": {},
   "outputs": [],
   "source": []
  },
  {
   "cell_type": "markdown",
   "id": "1d3ab6b9",
   "metadata": {},
   "source": [
    "### End "
   ]
  },
  {
   "cell_type": "code",
   "execution_count": null,
   "id": "53faf08c",
   "metadata": {},
   "outputs": [],
   "source": []
  }
 ],
 "metadata": {
  "kernelspec": {
   "display_name": "Python 3 (ipykernel)",
   "language": "python",
   "name": "python3"
  },
  "language_info": {
   "codemirror_mode": {
    "name": "ipython",
    "version": 3
   },
   "file_extension": ".py",
   "mimetype": "text/x-python",
   "name": "python",
   "nbconvert_exporter": "python",
   "pygments_lexer": "ipython3",
   "version": "3.11.5"
  }
 },
 "nbformat": 4,
 "nbformat_minor": 5
}
